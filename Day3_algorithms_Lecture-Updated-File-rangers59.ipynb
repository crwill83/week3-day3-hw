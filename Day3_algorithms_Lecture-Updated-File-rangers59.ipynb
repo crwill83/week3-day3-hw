{
 "cells": [
  {
   "cell_type": "markdown",
   "metadata": {},
   "source": [
    "# Algorithms, Binary Search & Linked Lists"
   ]
  },
  {
   "cell_type": "markdown",
   "metadata": {},
   "source": [
    "## Tasks Today:\n",
    " \n",
    "1) <b>In-Place Algorithms</b> <br>\n",
    " &nbsp;&nbsp;&nbsp;&nbsp; a) Syntax <br>\n",
    " &nbsp;&nbsp;&nbsp;&nbsp; a) Out of Place Algorithm <br>\n",
    " &nbsp;&nbsp;&nbsp;&nbsp; b) In-Class Exercise #1 <br>\n",
    "2) <b>Two Pointers</b> <br>\n",
    "3) <b>Linked Lists</b> <br>\n",
    "4) <b>Merge Sort</b> <br>\n",
    " &nbsp;&nbsp;&nbsp;&nbsp; a) Video on Algorithms <br>\n",
    " &nbsp;&nbsp;&nbsp;&nbsp; b) How it Works <br>\n",
    "5) <b>Exercises</b> <br>\n",
    " &nbsp;&nbsp;&nbsp;&nbsp; a) Exercise #1 - Reverse a List in Place Using an In-Place Algorithm <br>\n",
    " &nbsp;&nbsp;&nbsp;&nbsp; b) Exercise #2 - Find Distinct Words <br>\n",
    " &nbsp;&nbsp;&nbsp;&nbsp; c) Exercise #3 - Write a program to implement a Linear Search Algorithm. <br>"
   ]
  },
  {
   "cell_type": "markdown",
   "metadata": {},
   "source": [
    "## In-Place Algorithms"
   ]
  },
  {
   "cell_type": "markdown",
   "metadata": {},
   "source": [
    "#### Syntax"
   ]
  },
  {
   "cell_type": "code",
   "execution_count": 1,
   "metadata": {},
   "outputs": [
    {
     "name": "stdout",
     "output_type": "stream",
     "text": [
      "Before swap [20, 4, 10, 5, 13]\n",
      "After Swap [20, 13, 10, 5, 4]\n"
     ]
    }
   ],
   "source": [
    "# swap\n",
    "def swap(list1, x, y):\n",
    "    list1[x], list1[y] = list1[y], list1[x]\n",
    "    return\n",
    "\n",
    "myList = [20, 4, 10, 5, 13]\n",
    "print(f'Before swap {myList}')\n",
    "\n",
    "swap(myList, 1, -1)\n",
    "print(f'After Swap {myList}')"
   ]
  },
  {
   "cell_type": "markdown",
   "metadata": {},
   "source": [
    "#### Out of Place Algorithm"
   ]
  },
  {
   "cell_type": "code",
   "execution_count": 4,
   "metadata": {},
   "outputs": [],
   "source": [
    "# swap\n",
    "# def swapOut(list1, x, y):\n",
    "#     copy = list1[:]\n",
    "#     copy[x], copy[y] = copy[y], copy[x]\n",
    "#     return copy\n",
    "\n",
    "# myList = [20, 4, 10, 5, 13]\n",
    "# print(f'Before swap {myList}')\n",
    "\n",
    "# out = swapout(myList, 1, -1)\n",
    "\n",
    "# print(f'After Swap {myList}')\n",
    "# print('output:', out)\n"
   ]
  },
  {
   "cell_type": "markdown",
   "metadata": {},
   "source": [
    "#### In-Class Exercise #1 <br>\n",
    "<p>Write a function that takes in four arguments (list, index1, index2, index3), and swaps those three positions in the list passed in.</p>"
   ]
  },
  {
   "cell_type": "code",
   "execution_count": 6,
   "metadata": {},
   "outputs": [
    {
     "name": "stdout",
     "output_type": "stream",
     "text": [
      "Before swap [20, 4, 10, 5, 13]\n",
      "After Swap [20, 10, 13, 5, 4]\n"
     ]
    }
   ],
   "source": [
    "l_1 = [10, 4, 3, 8, 4, 2, 6]\n",
    "\n",
    "def swap(list1, x, y, z):\n",
    "    list1[x], list1[y], list1[z] = list1[z], list1[x], list1[y]\n",
    "    return\n",
    "\n",
    "myList = [20, 4, 10, 5, 13]\n",
    "print(f'Before swap {myList}')\n",
    "\n",
    "swap(myList, 1, -1, 2)\n",
    "print(f'After Swap {myList}')"
   ]
  },
  {
   "cell_type": "code",
   "execution_count": 7,
   "metadata": {},
   "outputs": [],
   "source": [
    "l_1 = [10, 4, 3, 8, 4, 2, 6]"
   ]
  },
  {
   "cell_type": "markdown",
   "metadata": {},
   "source": [
    "## Two Pointers"
   ]
  },
  {
   "cell_type": "markdown",
   "metadata": {},
   "source": [
    "#### Syntax"
   ]
  },
  {
   "cell_type": "code",
   "execution_count": 10,
   "metadata": {},
   "outputs": [
    {
     "name": "stdout",
     "output_type": "stream",
     "text": [
      "[25, 24, 23, 22, 7, 6, 5, 4, 3, 2, 1]\n"
     ]
    }
   ],
   "source": [
    "def twoPointer(list1):\n",
    "    # create pointers for the list\n",
    "    left = 0\n",
    "    right = len(list1)-1\n",
    "    while left <= right:\n",
    "        list1[left], list1[right] = list1[right], list1[left]\n",
    "        left += 1\n",
    "        right -= 1\n",
    "    return\n",
    "myList = [1,2,3,4,5,6,7,22,23,24,25]\n",
    "twoPointer(myList)\n",
    "print(myList)"
   ]
  },
  {
   "cell_type": "markdown",
   "metadata": {},
   "source": [
    "#### Video of Algorithms <br>\n",
    "<p>Watch the video about algorithms.</p>\n",
    "\n",
    "https://www.youtube.com/watch?v=Q9HjeFD62Uk\n",
    "\n",
    "https://www.youtube.com/watch?v=kPRA0W1kECg\n",
    "\n",
    "https://www.youtube.com/watch?v=ZZuD6iUe3Pc"
   ]
  },
  {
   "cell_type": "markdown",
   "metadata": {},
   "source": [
    "# Sorting Algorithms"
   ]
  },
  {
   "cell_type": "markdown",
   "metadata": {},
   "source": [
    "#### Bubble Sort\n",
    "\n",
    "Worst Case: O(n^2) Time - O(1) Space"
   ]
  },
  {
   "cell_type": "code",
   "execution_count": 16,
   "metadata": {},
   "outputs": [
    {
     "name": "stdout",
     "output_type": "stream",
     "text": [
      "[1, 7, 4, 5, 4, 2, 9, 10, 17, 13]\n"
     ]
    }
   ],
   "source": [
    "def swap(list1, x, y):\n",
    "    list1[x], list1[y]= list1[y], list1[x]\n",
    "    return\n",
    "    \n",
    "def bubbleSort(nums):\n",
    "    isSorted = False\n",
    "    count = 0\n",
    "\n",
    "    # Loop through list with index\n",
    "    while isSorted == False:\n",
    "        performSwap = False\n",
    "        for i in range(len(nums)-1-count):\n",
    "            # if right is smaller, swap\n",
    "            if nums[i] > nums[i]+1:\n",
    "                swap(nums, i, i+1)\n",
    "                performSwap = True\n",
    "        if performSwap == False:\n",
    "            isSorted = True\n",
    "        count += 1\n",
    "        if count == len(nums) -1:\n",
    "            isSorted = True\n",
    "\n",
    "myList = [1,7,4,5,4,2,9,10,17,13]\n",
    "bubbleSort(myList)\n",
    "print(myList)\n",
    "  \n"
   ]
  },
  {
   "cell_type": "markdown",
   "metadata": {},
   "source": [
    "##### Insertion Sort\n",
    "\n",
    "Worst Case: O(n^2) time - O(1)space"
   ]
  },
  {
   "cell_type": "code",
   "execution_count": 17,
   "metadata": {},
   "outputs": [
    {
     "name": "stdout",
     "output_type": "stream",
     "text": [
      "[1, 2, 4, 4, 5, 7, 9, 10, 13, 17]\n"
     ]
    }
   ],
   "source": [
    "def insertionSort(nums):\n",
    "    for i in range(1, len(nums)):\n",
    "        j = i\n",
    "        while j > 0 and nums[j] < nums[j-1]:\n",
    "            swap(nums, j, j-1)\n",
    "            j-=1\n",
    "\n",
    "my_list = [1,7,4,5,4,2,9,10,17,13]\n",
    "\n",
    "insertionSort(my_list)\n",
    "print(my_list)"
   ]
  },
  {
   "cell_type": "markdown",
   "metadata": {},
   "source": [
    "## Merge Sort"
   ]
  },
  {
   "cell_type": "markdown",
   "metadata": {},
   "source": [
    "#### How it Works"
   ]
  },
  {
   "cell_type": "code",
   "execution_count": 20,
   "metadata": {},
   "outputs": [
    {
     "name": "stdout",
     "output_type": "stream",
     "text": [
      "[1, 2, 4, 4, 5, 7, 9, 10, 13, 17]\n"
     ]
    }
   ],
   "source": [
    "def mergeSort(nums):\n",
    "    # step 1: divide into equal halves\n",
    "    if len(nums) > 1:\n",
    "        mid = len(nums)//2\n",
    "        lefthalf = nums[:mid]\n",
    "        righthalf = nums[mid:]\n",
    "\n",
    "        # recursively split left and right if needed\n",
    "        mergeSort(lefthalf)\n",
    "        mergeSort(righthalf)\n",
    "\n",
    "        # index pointer for 3 lists\n",
    "        i = 0 # pointer for left list\n",
    "        j = 0 # pointer for right list\n",
    "        k = 0 # pointer for main list\n",
    "\n",
    "        # step 2.. merge lists\n",
    "        while i<len(lefthalf) and j < len(righthalf):\n",
    "            if lefthalf[i] < righthalf[j]:\n",
    "                nums[k] = lefthalf[i]\n",
    "                i+=1\n",
    "            else:\n",
    "                nums[k] = righthalf[j]\n",
    "                j+=1\n",
    "            k+=1\n",
    "\n",
    "        # step 3: when on side finishes .. place other list into main array\n",
    "        # lefthalf finish\n",
    "        while i < len(lefthalf):\n",
    "            nums[k] = lefthalf[i]\n",
    "            i+=1\n",
    "            k+=1\n",
    "        # righthalf finish\n",
    "        while j < len(righthalf):\n",
    "            nums[k] = righthalf[j]\n",
    "            j+=1\n",
    "            k+=1\n",
    "\n",
    "    return \n",
    "\n",
    "my_list2 = [1,7,4,5,4,2,9,10,17,13]\n",
    "mergeSort(my_list2)\n",
    "print(my_list2)"
   ]
  },
  {
   "cell_type": "markdown",
   "metadata": {},
   "source": [
    "# Binary Search\n",
    "\n",
    "The Binary Search algorithm works by finding the number in the middle of a given array and comparing it to the target. Given that the array is sorted\n",
    "\n",
    "* The worst case run time for this algorithm is `O(log(n))`"
   ]
  },
  {
   "cell_type": "code",
   "execution_count": 28,
   "metadata": {},
   "outputs": [
    {
     "name": "stdout",
     "output_type": "stream",
     "text": [
      "[1, 2, 3, 3, 4, 5, 35, 53, 86, 345, 345, 456, 543, 3453, 6547, 7567]\n",
      "16\n"
     ]
    },
    {
     "data": {
      "text/plain": [
       "'Not found'"
      ]
     },
     "execution_count": 28,
     "metadata": {},
     "output_type": "execute_result"
    }
   ],
   "source": [
    "def binarySearch(list1, target, left, right):\n",
    "    while left < right:\n",
    "        middle = (left + right) // 2\n",
    "        potentialMatch = list1[middle]\n",
    "        if target == potentialMatch:\n",
    "            return f'I found my match {potentialMatch} at index {middle}'\n",
    "        elif target < potentialMatch:\n",
    "            right = middle - 1\n",
    "        else:\n",
    "            left = middle + 1\n",
    "    return 'Not found'\n",
    "\n",
    "x = sorted([1,2,543,6547,86,3453,345,7567,3,5,4,345,35,53,3,456])\n",
    "print(x)\n",
    "print(len(x))\n",
    "\n",
    "binarySearch(x, 1, 0, len(x))"
   ]
  },
  {
   "cell_type": "markdown",
   "metadata": {},
   "source": [
    "# Exercises"
   ]
  },
  {
   "cell_type": "markdown",
   "metadata": {},
   "source": [
    "### Exercise #1 <br>\n",
    "<p>Reverse the list below in-place using an in-place algorithm.<br>For extra credit: Reverse the strings at the same time.</p>"
   ]
  },
  {
   "cell_type": "code",
   "execution_count": 49,
   "metadata": {},
   "outputs": [
    {
     "name": "stdout",
     "output_type": "stream",
     "text": [
      "['.', 'sentence', 'a', 'is', 'this']\n"
     ]
    }
   ],
   "source": [
    "words = ['this' , 'is', 'a', 'sentence', '.']\n",
    "\n",
    "words.reverse()\n",
    "\n",
    "print(words)\n",
    "\n"
   ]
  },
  {
   "cell_type": "code",
   "execution_count": 53,
   "metadata": {},
   "outputs": [
    {
     "name": "stdout",
     "output_type": "stream",
     "text": [
      "['.', 'sentence', 'a', 'is', 'this']\n"
     ]
    }
   ],
   "source": [
    "words = ['this' , 'is', 'a', 'sentence', '.']\n",
    "\n",
    "def reverse(words):\n",
    "    words.reverse()\n",
    "    return\n",
    "\n",
    "reverse(words)\n",
    "print(words)"
   ]
  },
  {
   "cell_type": "markdown",
   "metadata": {},
   "source": [
    "### Exercise #2 <br>\n",
    "<p>Create a function that counts how many distinct words are in the string below, then outputs a dictionary with the words as the key and the value as the amount of times that word appears in the string.<br>Should output:<br>{'a': 5,<br>\n",
    " 'abstract': 1,<br>\n",
    " 'an': 3,<br>\n",
    " 'array': 2, ... etc...</p>"
   ]
  },
  {
   "cell_type": "code",
   "execution_count": 79,
   "metadata": {},
   "outputs": [
    {
     "data": {
      "text/plain": [
       "{'In': 1,\n",
       " 'computing,': 1,\n",
       " 'a': 4,\n",
       " 'hash': 4,\n",
       " 'table': 2,\n",
       " 'map': 2,\n",
       " 'is': 1,\n",
       " 'data': 2,\n",
       " 'structure': 2,\n",
       " 'which': 2,\n",
       " 'implements': 1,\n",
       " 'an': 3,\n",
       " 'associative': 1,\n",
       " 'array': 2,\n",
       " 'abstract': 1,\n",
       " 'type,': 1,\n",
       " 'that': 1,\n",
       " 'can': 2,\n",
       " 'keys': 1,\n",
       " 'to': 2,\n",
       " 'values.': 1,\n",
       " 'A': 1,\n",
       " 'uses': 1,\n",
       " 'function': 1,\n",
       " 'compute': 1,\n",
       " 'index': 1,\n",
       " 'into': 1,\n",
       " 'of': 1,\n",
       " 'buckets': 1,\n",
       " 'or': 1,\n",
       " 'slots': 1,\n",
       " 'from': 1,\n",
       " 'the': 1,\n",
       " 'desired': 1,\n",
       " 'value': 1,\n",
       " 'be': 1,\n",
       " 'found': 1}"
      ]
     },
     "execution_count": 79,
     "metadata": {},
     "output_type": "execute_result"
    }
   ],
   "source": [
    "a_text = 'In computing, a hash table hash map is a data structure which implements an associative array abstract data type, a structure that can map keys to values. A hash table uses a hash function to compute an index into an array of buckets or slots from which the desired value can be found'\n",
    "\n",
    "def uniqueWords(text):\n",
    "    list_text = text.split(' ')\n",
    "    # print(list_text)\n",
    "\n",
    "    lib_word = {}\n",
    "    \n",
    "    for i in list_text:\n",
    "        if i not in lib_word:\n",
    "            lib_word[i] = 1\n",
    "        else:\n",
    "            lib_word[i] += 1\n",
    "        \n",
    "    return lib_word\n",
    "\n",
    "# sample = input(\"Type a sentence.\") \n",
    "\n",
    "uniqueWords(a_text)\n",
    "\n"
   ]
  },
  {
   "cell_type": "markdown",
   "metadata": {},
   "source": [
    "## Exercise #3\n",
    "\n",
    "Write a program to implement a Linear Search Algorithm. Also in a comment, write the Time Complexity of the following algorithm.\n",
    "\n",
    "#### Hint: Linear Searching will require searching a list for a given number. "
   ]
  },
  {
   "cell_type": "code",
   "execution_count": 101,
   "metadata": {},
   "outputs": [
    {
     "data": {
      "text/plain": [
       "\"It's in there.\""
      ]
     },
     "execution_count": 101,
     "metadata": {},
     "output_type": "execute_result"
    }
   ],
   "source": [
    "# Time complexity for the list below is Θ(len(b_list)) or Θ(10) \n",
    "\n",
    "def linearSearch(b_list, value):   \n",
    "    for i in range(len(b_list)):\n",
    "        if b_list[i] == value:\n",
    "            return \"It's in there.\"\n",
    "    return \"I can't seem to find it.\"\n",
    "\n",
    "\n",
    "linearSearch([1,4,3,7,9,4,2,6,9,0], 0)"
   ]
  }
 ],
 "metadata": {
  "kernelspec": {
   "display_name": "Python 3",
   "language": "python",
   "name": "python3"
  },
  "language_info": {
   "codemirror_mode": {
    "name": "ipython",
    "version": 3
   },
   "file_extension": ".py",
   "mimetype": "text/x-python",
   "name": "python",
   "nbconvert_exporter": "python",
   "pygments_lexer": "ipython3",
   "version": "3.9.10"
  }
 },
 "nbformat": 4,
 "nbformat_minor": 2
}
